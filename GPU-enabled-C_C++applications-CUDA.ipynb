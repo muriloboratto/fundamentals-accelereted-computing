{
 "cells": [
  {
   "cell_type": "markdown",
   "metadata": {
    "id": "xXATwZ8VxZG7"
   },
   "source": [
    "# Fundamentals of Accelerated Computing with CUDA C/C++\n",
    "\n",
    " Murilo Boratto$^1$\n",
    "\n",
    "$^1$ SENAI CIMATEC <br />\n",
    "     &nbsp;&nbsp;&nbsp; Supercomputing Center<br />"
   ]
  },
  {
   "cell_type": "markdown",
   "metadata": {
    "id": "MyB9gzUjSGKc"
   },
   "source": [
    "## Enabled GPU in Colab"
   ]
  },
  {
   "cell_type": "markdown",
   "metadata": {
    "id": "sTFR6-5Ja64x"
   },
   "source": [
    "**Go to Menu > Runtime > Change runtime > V100 GPU**"
   ]
  },
  {
   "cell_type": "markdown",
   "metadata": {
    "id": "ynQEmQTgW_hs"
   },
   "source": [
    "## Instalation the APIs OpenMP and CUDA"
   ]
  },
  {
   "cell_type": "code",
   "execution_count": null,
   "metadata": {
    "id": "8GOdF9A-XDcf"
   },
   "outputs": [],
   "source": [
    "!sudo apt-get install libomp-dev"
   ]
  },
  {
   "cell_type": "markdown",
   "metadata": {
    "id": "0pfFUL-maxh4"
   },
   "source": [
    "## Check if GPU is running or not, run the following command"
   ]
  },
  {
   "cell_type": "code",
   "execution_count": 1,
   "metadata": {
    "id": "cIWeteLFbMdM"
   },
   "outputs": [
    {
     "name": "stdout",
     "output_type": "stream",
     "text": [
      "Thu Feb 13 10:55:12 2025       \n",
      "+-----------------------------------------------------------------------------+\n",
      "| NVIDIA-SMI 525.60.13    Driver Version: 525.60.13    CUDA Version: 12.0     |\n",
      "|-------------------------------+----------------------+----------------------+\n",
      "| GPU  Name        Persistence-M| Bus-Id        Disp.A | Volatile Uncorr. ECC |\n",
      "| Fan  Temp  Perf  Pwr:Usage/Cap|         Memory-Usage | GPU-Util  Compute M. |\n",
      "|                               |                      |               MIG M. |\n",
      "|===============================+======================+======================|\n",
      "|   0  Tesla V100-SXM2...  On   | 00000000:60:00.0 Off |                    0 |\n",
      "| N/A   42C    P0    45W / 300W |      0MiB / 32768MiB |      0%      Default |\n",
      "|                               |                      |                  N/A |\n",
      "+-------------------------------+----------------------+----------------------+\n",
      "|   1  Tesla V100-SXM2...  On   | 00000000:61:00.0 Off |                    0 |\n",
      "| N/A   42C    P0    42W / 300W |      0MiB / 32768MiB |      0%      Default |\n",
      "|                               |                      |                  N/A |\n",
      "+-------------------------------+----------------------+----------------------+\n",
      "|   2  Tesla V100-SXM2...  On   | 00000000:88:00.0 Off |                    0 |\n",
      "| N/A   42C    P0    44W / 300W |      0MiB / 32768MiB |      0%      Default |\n",
      "|                               |                      |                  N/A |\n",
      "+-------------------------------+----------------------+----------------------+\n",
      "|   3  Tesla V100-SXM2...  On   | 00000000:89:00.0 Off |                    0 |\n",
      "| N/A   41C    P0    44W / 300W |      0MiB / 32768MiB |      0%      Default |\n",
      "|                               |                      |                  N/A |\n",
      "+-------------------------------+----------------------+----------------------+\n",
      "                                                                               \n",
      "+-----------------------------------------------------------------------------+\n",
      "| Processes:                                                                  |\n",
      "|  GPU   GI   CI        PID   Type   Process name                  GPU Memory |\n",
      "|        ID   ID                                                   Usage      |\n",
      "|=============================================================================|\n",
      "|  No running processes found                                                 |\n",
      "+-----------------------------------------------------------------------------+\n"
     ]
    }
   ],
   "source": [
    "!nvidia-smi"
   ]
  },
  {
   "cell_type": "markdown",
   "metadata": {
    "id": "cqclQCVqjE3u"
   },
   "source": [
    "## Check if nvcc compiler is capable of using GPU"
   ]
  },
  {
   "cell_type": "code",
   "execution_count": 2,
   "metadata": {
    "id": "sFT0dpBBjNs1"
   },
   "outputs": [
    {
     "name": "stdout",
     "output_type": "stream",
     "text": [
      "nvcc: NVIDIA (R) Cuda compiler driver\n",
      "Copyright (c) 2005-2022 NVIDIA Corporation\n",
      "Built on Wed_Sep_21_10:33:58_PDT_2022\n",
      "Cuda compilation tools, release 11.8, V11.8.89\n",
      "Build cuda_11.8.r11.8/compiler.31833905_0\n"
     ]
    }
   ],
   "source": [
    "!nvcc --version"
   ]
  },
  {
   "cell_type": "markdown",
   "metadata": {
    "id": "ZqGTiMLEbEdx"
   },
   "source": [
    "## Optimizations Matrix Multiply Benchmark"
   ]
  },
  {
   "cell_type": "markdown",
   "metadata": {
    "id": "0goqSor0VbID"
   },
   "source": [
    "### Sequential Code"
   ]
  },
  {
   "cell_type": "code",
   "execution_count": 3,
   "metadata": {
    "id": "wH2wRXo9VSgH"
   },
   "outputs": [
    {
     "name": "stdout",
     "output_type": "stream",
     "text": [
      "Writing mm.c\n"
     ]
    }
   ],
   "source": [
    "%%writefile mm.c\n",
    "#include <stdio.h>\n",
    "#include <stdlib.h>\n",
    "#include <omp.h>\n",
    "\n",
    "void kernel(int *A, int *B, int *C, int size)\n",
    "{\n",
    " int i, j, k;\n",
    "\n",
    " for(i = 0; i < size; i++)\n",
    "  for(j = 0; j < size; j++)\n",
    "    for(k = 0; k < size; k++)\n",
    "       C[i * size + j] += A[i * size + k] * B[k * size + j];\n",
    "}\n",
    "\n",
    "void initializeMatrix(int *matrix, int size)\n",
    "{\n",
    "  int i, j;\n",
    "\n",
    "  for(i = 0; i < size; i++)\n",
    "    for(j = 0; j < size; j++)\n",
    "      matrix[i * size + j] = rand() % (10 - 1) * 1;\n",
    "}\n",
    "\n",
    "void printMatrix(int *matrix, int size)\n",
    "{\n",
    "  for(int i = 0; i < size; i++)\n",
    "  {\n",
    "    for(int j = 0; j < size; j++)\n",
    "      printf(\"%d\\t\", matrix[i * size + j]);\n",
    "    printf(\"\\n\");\n",
    "  }\n",
    "  printf(\"\\n\");\n",
    "}\n",
    "\n",
    "int main (int argc, char **argv)\n",
    "{\n",
    " int size = atoi(argv[1]);\n",
    " int i, j, k;\n",
    " double t1, t2;\n",
    "\n",
    " int  *A = (int *) malloc (sizeof(int)*size*size);\n",
    " int  *B = (int *) malloc (sizeof(int)*size*size);\n",
    " int  *C = (int *) malloc (sizeof(int)*size*size);\n",
    "\n",
    " initializeMatrix(A, size);\n",
    " initializeMatrix(B, size);\n",
    "\n",
    " t1 = omp_get_wtime();\n",
    "   kernel(A, B, C, size);\n",
    " t2 = omp_get_wtime();\n",
    "\n",
    " printf(\"%d\\t%f\\n\", size, t2-t1);\n",
    "\n",
    " //printMatrix(A,size);\n",
    " //printMatrix(B,size);\n",
    " //printMatrix(C,size);\n",
    "\n",
    " free(A);\n",
    " free(B);\n",
    " free(C);\n",
    "\n",
    " return 0;\n",
    "\n",
    "}"
   ]
  },
  {
   "cell_type": "code",
   "execution_count": 4,
   "metadata": {
    "executionInfo": {
     "elapsed": 544,
     "status": "ok",
     "timestamp": 1739453558863,
     "user": {
      "displayName": "Murilo Boratto",
      "userId": "13998345321799991370"
     },
     "user_tz": 180
    },
    "id": "ihrvZEJ0Wd5P"
   },
   "outputs": [],
   "source": [
    "!gcc mm.c -o mm -fopenmp -O3"
   ]
  },
  {
   "cell_type": "code",
   "execution_count": 5,
   "metadata": {
    "id": "bwhOuSG9Wd_P"
   },
   "outputs": [
    {
     "name": "stdout",
     "output_type": "stream",
     "text": [
      "10000\t1301.358851\n"
     ]
    }
   ],
   "source": [
    "!./mm 10000"
   ]
  },
  {
   "cell_type": "markdown",
   "metadata": {
    "id": "823d_hqHqTdN"
   },
   "source": [
    "### `CUDA Thread Hierarchy`"
   ]
  },
  {
   "cell_type": "code",
   "execution_count": 43,
   "metadata": {},
   "outputs": [
    {
     "data": {
      "text/html": [
       "\n",
       "<div align=\"center\">\n",
       "<iframe src=\"https://docs.google.com/presentation/d/1J_GF6XACL0-Dk1BtJCeWiHwJCFcM_Hkx/edit?usp=share_link&ouid=117965215426975519312&rtpof=true&sd=true\" frameborder=\"0\" width=\"900\" height=\"550\" allowfullscreen=\"true\" mozallowfullscreen=\"true\" webkitallowfullscreen=\"true\">\n",
       "\n",
       "</iframe></div>\n"
      ],
      "text/plain": [
       "<IPython.core.display.HTML object>"
      ]
     },
     "metadata": {},
     "output_type": "display_data"
    }
   ],
   "source": [
    "%%HTML\n",
    "\n",
    "<div align=\"center\">\n",
    "<iframe src=\"https://docs.google.com/presentation/d/1J_GF6XACL0-Dk1BtJCeWiHwJCFcM_Hkx/edit?usp=share_link&ouid=117965215426975519312&rtpof=true&sd=true\" frameborder=\"0\" width=\"900\" height=\"550\" allowfullscreen=\"true\" mozallowfullscreen=\"true\" webkitallowfullscreen=\"true\">\n",
    "\n",
    "</iframe></div>"
   ]
  },
  {
   "cell_type": "code",
   "execution_count": 6,
   "metadata": {
    "id": "2hTtR30ikC5N",
    "tags": []
   },
   "outputs": [
    {
     "name": "stdout",
     "output_type": "stream",
     "text": [
      "Writing mm.cu\n"
     ]
    }
   ],
   "source": [
    "%%writefile mm.cu\n",
    "#include <cuda.h>\n",
    "#include <stdio.h>\n",
    "#include <stdlib.h>\n",
    "#include <omp.h>\n",
    "\n",
    "__global__ void kernel(int *A, int *B, int *C, int size)\n",
    "{\n",
    "  int i = blockIdx.x * blockDim.x + threadIdx.x;\n",
    "  int j = blockIdx.y * blockDim.y + threadIdx.y;\n",
    "  int k;\n",
    "\n",
    "  if((i < size) && (j < size))\n",
    "    for(k = 0; k < size; k++)\n",
    "       C[i * size + j] += A[i * size + k] * B[k * size + j];\n",
    "\n",
    "}\n",
    "\n",
    "void initializeMatrix(int *A, int size)\n",
    "{\n",
    "  int i, j;\n",
    "\n",
    "  for(i = 0; i < size; i++)\n",
    "    for(j = 0; j < size; j++)\n",
    "       A[i * size + j] = rand() % (10 - 1) * 1;\n",
    "}\n",
    "\n",
    "void printMatrix(int *A, int size)\n",
    "{\n",
    "  int i, j;\n",
    "\n",
    "  for(i = 0; i < size; i++){\n",
    "    for(j = 0; j < size; j++)\n",
    "       printf(\"%d\\t\", A[i * size + j]);\n",
    "    printf(\"\\n\");\n",
    "  }\n",
    "  printf(\"\\n\");\n",
    "}\n",
    "\n",
    "int main(int argc, char **argv)\n",
    "{\n",
    "  if (argc < 3)\n",
    "  {\n",
    "    printf(\"%s [SIZE] [BLOCKSIZE]\\n\", argv[0]);\n",
    "    exit(-1);\n",
    "  }\n",
    "\n",
    "  int size = atoi(argv[1]);\n",
    "  int blockSize = atoi(argv[2]);\n",
    "  double t1, t2;\n",
    "\n",
    " //Memory Allocation in the Host\n",
    "  int  *A = (int *) malloc (sizeof(int) * size * size);\n",
    "  int  *B = (int *) malloc (sizeof(int) * size * size);\n",
    "  int  *C = (int *) malloc (sizeof(int) * size * size);\n",
    "\n",
    "  initializeMatrix(A, size);\n",
    "  initializeMatrix(B, size);\n",
    "\n",
    " // Memory Allocation in the Device\n",
    "  int *d_A, *d_B, *d_C;\n",
    "  cudaMalloc((void **) &d_A, size * size * sizeof(int) ) ;\n",
    "  cudaMalloc((void **) &d_B, size * size * sizeof(int) ) ;\n",
    "  cudaMalloc((void **) &d_C, size * size * sizeof(int) ) ;\n",
    "\n",
    "  t1 = omp_get_wtime();\n",
    "\n",
    " // Copy of data from host to device\n",
    "  cudaMemcpy( d_A, A, size * size * sizeof(int), cudaMemcpyHostToDevice ) ;\n",
    "  cudaMemcpy( d_B, B, size * size * sizeof(int), cudaMemcpyHostToDevice ) ;\n",
    "  cudaMemcpy( d_C, C, size * size * sizeof(int), cudaMemcpyHostToDevice ) ;\n",
    "\n",
    " // 2D Computational Grid\n",
    "  dim3 dimGrid( (int) ceil( (int) size / (float) blockSize ), (int) ceil( (int) size / (int) blockSize ) );\n",
    "  dim3 dimBlock( blockSize, blockSize);\n",
    "\n",
    "       kernel<<<dimGrid, dimBlock>>>(A, B, C, size);\n",
    "\n",
    " // Copy of data from device to host\n",
    "  cudaMemcpy( C, d_C, size * size * sizeof(int), cudaMemcpyDeviceToHost ) ;\n",
    "\n",
    "  t2 = omp_get_wtime();\n",
    "\n",
    "  printf(\"%d\\t%f\\n\", size, t2-t1);\n",
    "\n",
    " //printMatrix(A, size);\n",
    " //printMatrix(B, size);\n",
    " //printMatrix(C, size);\n",
    "\n",
    "// Memory Allocation in the Device\n",
    " cudaFree(d_A);\n",
    " cudaFree(d_B);\n",
    " cudaFree(d_C);\n",
    "\n",
    "// Memory Allocation in the Host\n",
    " free(A);\n",
    " free(B);\n",
    " free(C);\n",
    "\n",
    " return 0;\n",
    "\n",
    "}"
   ]
  },
  {
   "cell_type": "code",
   "execution_count": 7,
   "metadata": {
    "id": "FTVBh76aSywY",
    "tags": []
   },
   "outputs": [],
   "source": [
    "!nvcc -arch=sm_75 mm.cu -o mm -Xcompiler -fopenmp"
   ]
  },
  {
   "cell_type": "code",
   "execution_count": 8,
   "metadata": {
    "id": "TCAWmPrRYc6W",
    "tags": []
   },
   "outputs": [
    {
     "name": "stdout",
     "output_type": "stream",
     "text": [
      "10000\t0.383470\n"
     ]
    }
   ],
   "source": [
    "!./mm 10000 64"
   ]
  },
  {
   "cell_type": "markdown",
   "metadata": {
    "id": "edaoNwRFeJK9"
   },
   "source": [
    "### `Grid Stride Loop`"
   ]
  },
  {
   "cell_type": "code",
   "execution_count": 9,
   "metadata": {
    "id": "ymjx2tcvoTYF"
   },
   "outputs": [
    {
     "data": {
      "text/html": [
       "\n",
       "<div align=\"center\">\n",
       "<iframe src=\"https://docs.google.com/presentation/d/1tRO-HwqCfv8imhDO4S_8yAv8wEcJVttZ/edit?usp=sharing&ouid=117965215426975519312&rtpof=true&sd=true\" frameborder=\"0\" width=\"900\" height=\"550\" allowfullscreen=\"true\" mozallowfullscreen=\"true\" webkitallowfullscreen=\"true\">\n",
       "\n",
       "</iframe></div>\n"
      ],
      "text/plain": [
       "<IPython.core.display.HTML object>"
      ]
     },
     "metadata": {},
     "output_type": "display_data"
    }
   ],
   "source": [
    "%%HTML\n",
    "\n",
    "<div align=\"center\">\n",
    "<iframe src=\"https://docs.google.com/presentation/d/1tRO-HwqCfv8imhDO4S_8yAv8wEcJVttZ/edit?usp=sharing&ouid=117965215426975519312&rtpof=true&sd=true\" frameborder=\"0\" width=\"900\" height=\"550\" allowfullscreen=\"true\" mozallowfullscreen=\"true\" webkitallowfullscreen=\"true\">\n",
    "\n",
    "</iframe></div>"
   ]
  },
  {
   "cell_type": "code",
   "execution_count": 10,
   "metadata": {
    "id": "MZpA7sUlLVgZ",
    "tags": []
   },
   "outputs": [
    {
     "name": "stdout",
     "output_type": "stream",
     "text": [
      "Writing mm-gridStrideLoop.cu\n"
     ]
    }
   ],
   "source": [
    "%%writefile mm-gridStrideLoop.cu\n",
    "#include <cuda.h>\n",
    "#include <stdio.h>\n",
    "#include <stdlib.h>\n",
    "#include <omp.h>\n",
    "\n",
    "__global__ void kernel(int *A, int *B, int *C, int size)\n",
    "{\n",
    "  int i = blockIdx.x * blockDim.x + threadIdx.x;\n",
    "  int j = blockIdx.y * blockDim.y + threadIdx.y;\n",
    "  int k;\n",
    "\n",
    "  if((i < size) && (j < size))\n",
    "    for(k = 0; k < size; k++)\n",
    "       C[i * size + j] += A[i * size + k] * B[k * size + j];\n",
    "\n",
    "}\n",
    "\n",
    "__global__ void kernelGridStrideLoop(int *A, int *B, int *C, int size)\n",
    "{\n",
    "  int idx = blockIdx.x * blockDim.x + threadIdx.x;\n",
    "  int idy = blockIdx.y * blockDim.y + threadIdx.y;\n",
    "  int stride = gridDim.x * blockDim.x;\n",
    "  int i, j, k;\n",
    "\n",
    "  for(i = idx; i < size; i += stride)\n",
    "    for(j = idy; j < size; j += stride)\n",
    "    {\n",
    "       for(k = 0; k < size; k++)\n",
    "            C[i * size + j] += A[i * size + k] * B[k * size + j];\n",
    "    }\n",
    "\n",
    "}\n",
    "\n",
    "void initializeMatrix(int *A, int size)\n",
    "{\n",
    "  int i, j;\n",
    "\n",
    "  for(i = 0; i < size; i++)\n",
    "    for(j = 0; j < size; j++)\n",
    "      A[i * size + j] = rand() % (10 - 1) * 1;\n",
    "}\n",
    "\n",
    "void printMatrix(int *A, int size)\n",
    "{\n",
    "  int i, j;\n",
    "\n",
    "  for(i = 0; i < size; i++){\n",
    "    for(j = 0; j < size; j++)\n",
    "      printf(\"%d\\t\", A[i * size + j]);\n",
    "    printf(\"\\n\");\n",
    "  }\n",
    "  printf(\"\\n\");\n",
    "}\n",
    "\n",
    "int main(int argc, char **argv)\n",
    "{\n",
    "  if (argc < 3)\n",
    "  {\n",
    "    printf(\"%s [SIZE] [BLOCKSIZE]\\n\", argv[0]);\n",
    "    exit(-1);\n",
    "  }\n",
    "\n",
    "  int size = atoi(argv[1]);\n",
    "  int blockSize = atoi(argv[2]);\n",
    "  double t1, t2;\n",
    "\n",
    " //Memory Allocation in the Host\n",
    "  int  *A = (int *) malloc (sizeof(int) * size * size);\n",
    "  int  *B = (int *) malloc (sizeof(int) * size * size);\n",
    "  int  *C = (int *) malloc (sizeof(int) * size * size);\n",
    "\n",
    "  initializeMatrix(A, size);\n",
    "  initializeMatrix(B, size);\n",
    "\n",
    " // Memory Allocation in the Device\n",
    "  int *d_A, *d_B, *d_C;\n",
    "  cudaMalloc((void **) &d_A, size * size * sizeof(int) ) ;\n",
    "  cudaMalloc((void **) &d_B, size * size * sizeof(int) ) ;\n",
    "  cudaMalloc((void **) &d_C, size * size * sizeof(int) ) ;\n",
    "\n",
    "  t1 = omp_get_wtime();\n",
    "\n",
    " // Copy of data from host to device\n",
    "  cudaMemcpy( d_A, A, size * size * sizeof(int), cudaMemcpyHostToDevice ) ;\n",
    "  cudaMemcpy( d_B, B, size * size * sizeof(int), cudaMemcpyHostToDevice ) ;\n",
    "  cudaMemcpy( d_C, C, size * size * sizeof(int), cudaMemcpyHostToDevice ) ;\n",
    "\n",
    " // 2D Computational Grid\n",
    "  dim3 dimGrid( (int) ceil( (int) size / (int) blockSize ), (int) ceil( (int) size / (int) blockSize ) );\n",
    "  dim3 dimBlock( blockSize, blockSize);\n",
    "\n",
    "            kernelGridStrideLoop<<<dimGrid, dimBlock>>>(A, B, C, size);\n",
    "\n",
    " // Copy of data from device to host\n",
    "  cudaMemcpy( C, d_C, size * size * sizeof(int), cudaMemcpyDeviceToHost ) ;\n",
    "\n",
    "  t2 = omp_get_wtime();\n",
    "\n",
    "  printf(\"%d\\t%f\\n\", size, t2-t1);\n",
    "\n",
    " //printMatrix(A, size);\n",
    " //printMatrix(B, size);\n",
    " //printMatrix(C, size);\n",
    "\n",
    "// Memory Allocation in the Device\n",
    " cudaFree(d_A);\n",
    " cudaFree(d_B);\n",
    " cudaFree(d_C);\n",
    "\n",
    "// Memory Allocation in the Host\n",
    " free(A);\n",
    " free(B);\n",
    " free(C);\n",
    "\n",
    " return 0;\n",
    "}"
   ]
  },
  {
   "cell_type": "code",
   "execution_count": 11,
   "metadata": {
    "id": "W6r-gx0_Ld2G",
    "tags": []
   },
   "outputs": [],
   "source": [
    "!nvcc -arch=sm_75 mm-gridStrideLoop.cu -o mm-gridStrideLoop -Xcompiler -fopenmp"
   ]
  },
  {
   "cell_type": "code",
   "execution_count": 25,
   "metadata": {
    "id": "RL9LL2OmLhvM",
    "tags": []
   },
   "outputs": [
    {
     "name": "stdout",
     "output_type": "stream",
     "text": [
      "10000\t0.376829\n"
     ]
    }
   ],
   "source": [
    "!./mm-gridStrideLoop 10000 64"
   ]
  },
  {
   "cell_type": "markdown",
   "metadata": {
    "id": "rFTvpmQBeJK-"
   },
   "source": [
    "### `Unified Memory (cudaMallocManaged)`"
   ]
  },
  {
   "cell_type": "code",
   "execution_count": 13,
   "metadata": {
    "id": "H3ThCItfoTYH"
   },
   "outputs": [
    {
     "data": {
      "text/html": [
       "\n",
       "<div align=\"center\">\n",
       "<iframe src=\"https://docs.google.com/presentation/d/1ui1b_fEY8NsG8fffNmUJ2HbWyu_r1xOz/edit?usp=sharing&ouid=117965215426975519312&rtpof=true&sd=true\" frameborder=\"0\" width=\"900\" height=\"550\" allowfullscreen=\"true\" mozallowfullscreen=\"true\" webkitallowfullscreen=\"true\">\n",
       "\n",
       "</iframe></div>\n"
      ],
      "text/plain": [
       "<IPython.core.display.HTML object>"
      ]
     },
     "metadata": {},
     "output_type": "display_data"
    }
   ],
   "source": [
    "%%HTML\n",
    "\n",
    "<div align=\"center\">\n",
    "<iframe src=\"https://docs.google.com/presentation/d/1ui1b_fEY8NsG8fffNmUJ2HbWyu_r1xOz/edit?usp=sharing&ouid=117965215426975519312&rtpof=true&sd=true\" frameborder=\"0\" width=\"900\" height=\"550\" allowfullscreen=\"true\" mozallowfullscreen=\"true\" webkitallowfullscreen=\"true\">\n",
    "\n",
    "</iframe></div>"
   ]
  },
  {
   "cell_type": "code",
   "execution_count": 40,
   "metadata": {
    "id": "1B3TRZ5CeJK_",
    "tags": []
   },
   "outputs": [
    {
     "name": "stdout",
     "output_type": "stream",
     "text": [
      "Overwriting mm-cudaMallocManaged.cu\n"
     ]
    }
   ],
   "source": [
    "%%writefile mm-cudaMallocManaged.cu\n",
    "#include <cuda.h>\n",
    "#include <stdio.h>\n",
    "#include <stdlib.h>\n",
    "#include <omp.h>\n",
    "\n",
    "__global__ void kernel(int *A, int *B, int *C, int size)\n",
    "{\n",
    "  int i = blockIdx.x * blockDim.x + threadIdx.x;\n",
    "  int j = blockIdx.y * blockDim.y + threadIdx.y;\n",
    "  int k;\n",
    "\n",
    "  if((i < size) && (j < size))\n",
    "     for(k = 0; k < size; k++)\n",
    "        C[i * size + j] += A[i * size + k] * B[k * size + j];\n",
    "\n",
    "}\n",
    "\n",
    "__global__ void kernelGridStrideLoop(int *A, int *B, int *C, int size)\n",
    "{\n",
    "  int idx = blockIdx.x * blockDim.x + threadIdx.x;\n",
    "  int idy = blockIdx.y * blockDim.y + threadIdx.y;\n",
    "  int stride = gridDim.x * blockDim.x;\n",
    "  int i, j, k;\n",
    "\n",
    "  for(i = idx; i < size; i += stride)\n",
    "    for(j = idy; j < size; j += stride)\n",
    "    {\n",
    "       for(k = 0; k < size; k++)\n",
    "            C[i * size + j] += A[i * size + k] * B[k * size + j];\n",
    "    }\n",
    "\n",
    "}\n",
    "\n",
    "void initializeMatrix(int *A, int size)\n",
    "{\n",
    "  int i, j;\n",
    "\n",
    "  for(i = 0; i < size; i++)\n",
    "    for(j = 0; j < size; j++)\n",
    "      A[i * size + j] = rand() % (10 - 1) * 1;\n",
    "}\n",
    "\n",
    "void printMatrix(int *A, int size)\n",
    "{\n",
    "  int i, j;\n",
    "\n",
    "  for(i = 0; i < size; i++){\n",
    "    for(j = 0; j < size; j++)\n",
    "      printf(\"%d\\t\", A[i * size + j]);\n",
    "    printf(\"\\n\");\n",
    "  }\n",
    "  printf(\"\\n\");\n",
    "}\n",
    "\n",
    "int main(int argc, char **argv)\n",
    "{\n",
    " /*Usage*/\n",
    " if (argc < 3) {\n",
    "   printf(\"%s [SIZE] [BLOCKSIZE]\\n\", argv[0]);\n",
    "   exit(-1);\n",
    " }\n",
    "\n",
    " int size = atoi(argv[1]);\n",
    " int blockSize = atoi(argv[2]); ;\n",
    " double t1, t2, t3, t4;\n",
    " int *A,  *B,  *C;\n",
    "\n",
    " t1 = omp_get_wtime();\n",
    "\n",
    " cudaMallocManaged(&A, sizeof(int) * size * size);\n",
    " cudaMallocManaged(&B, sizeof(int) * size * size);\n",
    " cudaMallocManaged(&C, sizeof(int) * size * size);\n",
    "\n",
    "     t3 = omp_get_wtime();\n",
    "    \n",
    "     initializeMatrix(A, size);\n",
    "     initializeMatrix(B, size);\n",
    "\n",
    "     t4 = omp_get_wtime();\n",
    "   \n",
    " //printMatrix(A, size);\n",
    " //printMatrix(B, size);\n",
    " //printMatrix(C, size);\n",
    "\n",
    " dim3 dimGrid( (int) ceil( (int) size / (int) blockSize ), (int) ceil( (int) size / (int) blockSize ) );\n",
    " dim3 dimBlock( blockSize, blockSize);\n",
    "\n",
    "      kernelGridStrideLoop<<<dimGrid, dimBlock>>>(A, B, C, size);\n",
    "      cudaDeviceSynchronize();\n",
    "\n",
    "t2 = omp_get_wtime();\n",
    "\n",
    "printf(\"%d\\t%f\\n\", size, (t2-t1)-(t4-t3));\n",
    "\n",
    "//printMatrix(A, size);\n",
    "//printMatrix(B, size);\n",
    "//printMatrix(C, size);\n",
    "\n",
    "cudaFree(A);\n",
    "cudaFree(B);\n",
    "cudaFree(C);\n",
    "\n",
    "return 0;\n",
    "\n",
    "}\n"
   ]
  },
  {
   "cell_type": "code",
   "execution_count": 41,
   "metadata": {
    "id": "inrnf5OpeJK_",
    "tags": []
   },
   "outputs": [],
   "source": [
    "!nvcc mm-cudaMallocManaged.cu -o mm-cudaMallocManaged -Xcompiler -fopenmp"
   ]
  },
  {
   "cell_type": "code",
   "execution_count": 42,
   "metadata": {
    "id": "qfwoEnWKeJK_",
    "tags": []
   },
   "outputs": [
    {
     "name": "stdout",
     "output_type": "stream",
     "text": [
      "10000\t0.195462\n"
     ]
    }
   ],
   "source": [
    "!./mm-cudaMallocManaged 10000 64"
   ]
  },
  {
   "cell_type": "markdown",
   "metadata": {
    "id": "dYP1lJrZok32"
   },
   "source": [
    "#### `Stream Multiprocessador (SMs)`"
   ]
  },
  {
   "cell_type": "code",
   "execution_count": 29,
   "metadata": {
    "id": "JLa0RujAoTYI"
   },
   "outputs": [
    {
     "data": {
      "text/html": [
       "\n",
       "<div align=\"center\">\n",
       "<iframe src=\"https://docs.google.com/presentation/d/18z3x55kxCCjGZ3LVKOtSN5q8qXe4swFL/edit?usp=sharing&ouid=117965215426975519312&rtpof=true&sd=true\" frameborder=\"0\" width=\"900\" height=\"550\" allowfullscreen=\"true\" mozallowfullscreen=\"true\" webkitallowfullscreen=\"true\">\n",
       "\n",
       "</iframe></div>\n"
      ],
      "text/plain": [
       "<IPython.core.display.HTML object>"
      ]
     },
     "metadata": {},
     "output_type": "display_data"
    }
   ],
   "source": [
    "%%HTML\n",
    "\n",
    "<div align=\"center\">\n",
    "<iframe src=\"https://docs.google.com/presentation/d/18z3x55kxCCjGZ3LVKOtSN5q8qXe4swFL/edit?usp=sharing&ouid=117965215426975519312&rtpof=true&sd=true\" frameborder=\"0\" width=\"900\" height=\"550\" allowfullscreen=\"true\" mozallowfullscreen=\"true\" webkitallowfullscreen=\"true\">\n",
    "\n",
    "</iframe></div>"
   ]
  },
  {
   "cell_type": "code",
   "execution_count": 37,
   "metadata": {
    "id": "IH8IX1MAok33",
    "tags": []
   },
   "outputs": [
    {
     "name": "stdout",
     "output_type": "stream",
     "text": [
      "Overwriting mm-streamMultiprocessador.cu\n"
     ]
    }
   ],
   "source": [
    "%%writefile mm-streamMultiprocessador.cu\n",
    "#include <cuda.h>\n",
    "#include <stdio.h>\n",
    "#include <stdlib.h>\n",
    "#include <omp.h>\n",
    "\n",
    "__global__ void kernelGridStrideLoop(int *A, int *B,  int *C, int size)\n",
    "{\n",
    "  int idx = blockIdx.x * blockDim.x + threadIdx.x;\n",
    "  int idy = blockIdx.y * blockDim.y + threadIdx.y;\n",
    "  int stride = gridDim.x * blockDim.x;\n",
    "  int i, j, k;\n",
    "\n",
    "  for(i = idx; i < size; i += stride)\n",
    "    for(j = idy; j < size; j += stride)\n",
    "    {\n",
    "       for(k = 0; k < size; k++)\n",
    "         C[i * size + j] += A[i * size + k] * B[k * size + j];\n",
    "    }\n",
    "\n",
    "}\n",
    "\n",
    "void initializeMatrix(int *A, int size)\n",
    "{\n",
    "  int i, j;\n",
    "\n",
    "  for(i = 0; i < size; i++)\n",
    "    for(j = 0; j < size; j++)\n",
    "      A[i * size + j] = rand() % (10 - 1) * 1;\n",
    "}\n",
    "\n",
    "void printMatrix(int *A, int size)\n",
    "{\n",
    "  int i, j;\n",
    "\n",
    "  for(i = 0; i < size; i++){\n",
    "    for(j = 0; j < size; j++)\n",
    "      printf(\"%d\\t\", A[i * size + j]);\n",
    "    printf(\"\\n\");\n",
    "  }\n",
    "  printf(\"\\n\");\n",
    "}\n",
    "\n",
    "int main (int argc, char **argv)\n",
    "{\n",
    " /*Usage*/\n",
    " if (argc < 3) {\n",
    "   printf(\"%s [SIZE] [BLOCKSIZE]\\n\", argv[0]);\n",
    "   exit(-1);\n",
    " }\n",
    "\n",
    " int size = atoi(argv[1]);\n",
    " int sizeblock = atoi(argv[2]); ;\n",
    " double t1, t2, t3, t4;\n",
    " int *A,  *B, *C;\n",
    "\n",
    " t1 = omp_get_wtime();\n",
    "   \n",
    " cudaMallocManaged(&A, sizeof(int) * size * size);\n",
    " cudaMallocManaged(&B, sizeof(int) * size * size);\n",
    " cudaMallocManaged(&C, sizeof(int) * size * size);\n",
    "\n",
    "     t3 = omp_get_wtime();\n",
    "     \n",
    "     initializeMatrix(A, size);\n",
    "     initializeMatrix(B, size);\n",
    "     \n",
    "     t4 = omp_get_wtime();\n",
    "\n",
    " //printMatrix(A, size);\n",
    " //printMatrix(B, size);\n",
    " //printMatrix(C, size);\n",
    "\n",
    " int deviceId, numberOfSMs;\n",
    " cudaGetDevice(&deviceId);\n",
    " cudaDeviceGetAttribute(&numberOfSMs, cudaDevAttrMultiProcessorCount, deviceId);\n",
    "\n",
    " int NUMBER_OF_BLOCKS = numberOfSMs * 32;\n",
    " int NUMBER_OF_THREADS = 1024;\n",
    "\n",
    "      kernelGridStrideLoop<<< NUMBER_OF_BLOCKS, NUMBER_OF_THREADS>>>(A, B, C, size);\n",
    "      cudaDeviceSynchronize();\n",
    "\n",
    " t2 = omp_get_wtime();\n",
    "\n",
    " printf(\"%d\\t%f\\n\", size, (t2-t1)-(t4-t3));\n",
    "\n",
    "//printMatrix(A, size);\n",
    "//printMatrix(B, size);\n",
    "//printMatrix(C, size);\n",
    "\n",
    "cudaFree(A);\n",
    "cudaFree(B);\n",
    "cudaFree(C);\n",
    "\n",
    "return 0;\n",
    "}\n"
   ]
  },
  {
   "cell_type": "code",
   "execution_count": 38,
   "metadata": {
    "id": "jXKV9XKZok33",
    "tags": []
   },
   "outputs": [],
   "source": [
    "!nvcc mm-streamMultiprocessador.cu -o mm-streamMultiprocessador -Xcompiler -fopenmp"
   ]
  },
  {
   "cell_type": "code",
   "execution_count": 39,
   "metadata": {
    "id": "JAg-VF-qok33",
    "tags": []
   },
   "outputs": [
    {
     "name": "stdout",
     "output_type": "stream",
     "text": [
      "10000\t0.374113\n"
     ]
    }
   ],
   "source": [
    "!./mm-streamMultiprocessador 10000 64"
   ]
  }
 ],
 "metadata": {
  "accelerator": "GPU",
  "colab": {
   "gpuType": "T4",
   "provenance": [
    {
     "file_id": "1MCx31lj9AcWrqGReFyiNTFoHwErZ2iC5",
     "timestamp": 1739366102672
    },
    {
     "file_id": "1iD5CokXvx02AYYVFCBCpmeNRvtmMgIvJ",
     "timestamp": 1705313939307
    },
    {
     "file_id": "1ZkyYkRzX6g3uldQhU-bgMF5jzn1k3C7J",
     "timestamp": 1705310081089
    },
    {
     "file_id": "19ofstzfOeJlZYKFSrJk6seqe2oJWv1xS",
     "timestamp": 1698257221671
    },
    {
     "file_id": "1OhujvtZ8HLCXG4JU56I72vBJlfqYb9Kk",
     "timestamp": 1694022921959
    },
    {
     "file_id": "1e_lXiysoxz98IAygtljP-0xTOO6FaYV4",
     "timestamp": 1692812241795
    },
    {
     "file_id": "https://github.com/muriloboratto/programacao-jogos-digitais/blob/master/JD0007/notebooks/01-Entradas-Saidas.ipynb",
     "timestamp": 1678191303998
    }
   ]
  },
  "kernelspec": {
   "display_name": "Python 3 (ipykernel)",
   "language": "python",
   "name": "python3"
  },
  "language_info": {
   "codemirror_mode": {
    "name": "ipython",
    "version": 3
   },
   "file_extension": ".py",
   "mimetype": "text/x-python",
   "name": "python",
   "nbconvert_exporter": "python",
   "pygments_lexer": "ipython3",
   "version": "3.8.8"
  }
 },
 "nbformat": 4,
 "nbformat_minor": 4
}
